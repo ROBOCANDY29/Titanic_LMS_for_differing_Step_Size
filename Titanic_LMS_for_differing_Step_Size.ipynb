{
  "cells": [
    {
      "source": [
        "\n",
        "# IMPORTANT: RUN THIS CELL IN ORDER TO IMPORT YOUR KAGGLE DATA SOURCES\n",
        "# TO THE CORRECT LOCATION (/kaggle/input) IN YOUR NOTEBOOK,\n",
        "# THEN FEEL FREE TO DELETE THIS CELL.\n",
        "# NOTE: THIS NOTEBOOK ENVIRONMENT DIFFERS FROM KAGGLE'S PYTHON\n",
        "# ENVIRONMENT SO THERE MAY BE MISSING LIBRARIES USED BY YOUR\n",
        "# NOTEBOOK.\n",
        "\n",
        "import os\n",
        "import sys\n",
        "from tempfile import NamedTemporaryFile\n",
        "from urllib.request import urlopen\n",
        "from urllib.parse import unquote, urlparse\n",
        "from urllib.error import HTTPError\n",
        "from zipfile import ZipFile\n",
        "import tarfile\n",
        "import shutil\n",
        "\n",
        "CHUNK_SIZE = 40960\n",
        "DATA_SOURCE_MAPPING = 'titanic-extended:https%3A%2F%2Fstorage.googleapis.com%2Fkaggle-data-sets%2F122398%2F315766%2Fbundle%2Farchive.zip%3FX-Goog-Algorithm%3DGOOG4-RSA-SHA256%26X-Goog-Credential%3Dgcp-kaggle-com%2540kaggle-161607.iam.gserviceaccount.com%252F20240913%252Fauto%252Fstorage%252Fgoog4_request%26X-Goog-Date%3D20240913T065709Z%26X-Goog-Expires%3D259200%26X-Goog-SignedHeaders%3Dhost%26X-Goog-Signature%3D9a21156919df43a5c70d49bf23229b591fe04d2abe8f6c82b228a09e3c9cc67fd74f347d804e8d11cfd66a1b6b403058971b55a8f3d680e2d12b82391220059ffdcdf05f96e0df251c2f7479a1e6c101add75633ff7c92bcb50e02663f7c8660b5c05204dcb69f35be8a64f2171ad45f58cf39953e49556fa97a8224a462bec369cb9e3e2e132f5df928fd89e0df5abde5580708d096d8a6e14bfb237a94c58abb349bf9cd3eefec627335e6fee0d6c728937751586bc6f1f8a39ece16b676e5500a4e499dc562b84ce7e3cd5ea20ee264146be3fae4bebf569e661084a1741173b197e7ba7c8373b70eb413de3c6df6a1d9a289102de36071b43b680a9cd0d9'\n",
        "\n",
        "KAGGLE_INPUT_PATH='/kaggle/input'\n",
        "KAGGLE_WORKING_PATH='/kaggle/working'\n",
        "KAGGLE_SYMLINK='kaggle'\n",
        "\n",
        "!umount /kaggle/input/ 2> /dev/null\n",
        "shutil.rmtree('/kaggle/input', ignore_errors=True)\n",
        "os.makedirs(KAGGLE_INPUT_PATH, 0o777, exist_ok=True)\n",
        "os.makedirs(KAGGLE_WORKING_PATH, 0o777, exist_ok=True)\n",
        "\n",
        "try:\n",
        "  os.symlink(KAGGLE_INPUT_PATH, os.path.join(\"..\", 'input'), target_is_directory=True)\n",
        "except FileExistsError:\n",
        "  pass\n",
        "try:\n",
        "  os.symlink(KAGGLE_WORKING_PATH, os.path.join(\"..\", 'working'), target_is_directory=True)\n",
        "except FileExistsError:\n",
        "  pass\n",
        "\n",
        "for data_source_mapping in DATA_SOURCE_MAPPING.split(','):\n",
        "    directory, download_url_encoded = data_source_mapping.split(':')\n",
        "    download_url = unquote(download_url_encoded)\n",
        "    filename = urlparse(download_url).path\n",
        "    destination_path = os.path.join(KAGGLE_INPUT_PATH, directory)\n",
        "    try:\n",
        "        with urlopen(download_url) as fileres, NamedTemporaryFile() as tfile:\n",
        "            total_length = fileres.headers['content-length']\n",
        "            print(f'Downloading {directory}, {total_length} bytes compressed')\n",
        "            dl = 0\n",
        "            data = fileres.read(CHUNK_SIZE)\n",
        "            while len(data) > 0:\n",
        "                dl += len(data)\n",
        "                tfile.write(data)\n",
        "                done = int(50 * dl / int(total_length))\n",
        "                sys.stdout.write(f\"\\r[{'=' * done}{' ' * (50-done)}] {dl} bytes downloaded\")\n",
        "                sys.stdout.flush()\n",
        "                data = fileres.read(CHUNK_SIZE)\n",
        "            if filename.endswith('.zip'):\n",
        "              with ZipFile(tfile) as zfile:\n",
        "                zfile.extractall(destination_path)\n",
        "            else:\n",
        "              with tarfile.open(tfile.name) as tarfile:\n",
        "                tarfile.extractall(destination_path)\n",
        "            print(f'\\nDownloaded and uncompressed: {directory}')\n",
        "    except HTTPError as e:\n",
        "        print(f'Failed to load (likely expired) {download_url} to path {destination_path}')\n",
        "        continue\n",
        "    except OSError as e:\n",
        "        print(f'Failed to load {download_url} to path {destination_path}')\n",
        "        continue\n",
        "\n",
        "print('Data source import complete.')\n"
      ],
      "metadata": {
        "id": "CQ66da2wKQLu",
        "colab": {
          "base_uri": "https://localhost:8080/"
        },
        "outputId": "6c150c85-876c-4a75-9f38-2dd944b91100"
      },
      "cell_type": "code",
      "outputs": [
        {
          "output_type": "stream",
          "name": "stdout",
          "text": [
            "Downloading titanic-extended, 137471 bytes compressed\n",
            "[==================================================] 137471 bytes downloaded\n",
            "Downloaded and uncompressed: titanic-extended\n",
            "Data source import complete.\n"
          ]
        }
      ],
      "execution_count": null
    },
    {
      "metadata": {
        "_uuid": "8f2839f25d086af736a60e9eeb907d3b93b6e0e5",
        "_cell_guid": "b1076dfc-b9ad-4769-8c92-a6c4dae69d19",
        "trusted": true,
        "id": "_HnzsIh8KQLx",
        "colab": {
          "base_uri": "https://localhost:8080/"
        },
        "outputId": "52b4e263-186a-45a0-df17-adac30b00536"
      },
      "cell_type": "code",
      "source": [
        "# This Python 3 environment comes with many helpful analytics libraries installed\n",
        "# It is defined by the kaggle/python Docker image: https://github.com/kaggle/docker-python\n",
        "# For example, here's several helpful packages to load\n",
        "\n",
        "import numpy as np # linear algebra\n",
        "import pandas as pd # data processing, CSV file I/O (e.g. pd.read_csv)\n",
        "\n",
        "# Input data files are available in the read-only \"../input/\" directory\n",
        "# For example, running this (by clicking run or pressing Shift+Enter) will list all files under the input directory\n",
        "\n",
        "import os\n",
        "for dirname, _, filenames in os.walk('/kaggle/input'):\n",
        "    for filename in filenames:\n",
        "        print(os.path.join(dirname, filename))\n",
        "\n",
        "# You can write up to 20GB to the current directory (/kaggle/working/) that gets preserved as output when you create a version using \"Save & Run All\"\n",
        "# You can also write temporary files to /kaggle/temp/, but they won't be saved outside of the current session"
      ],
      "execution_count": null,
      "outputs": [
        {
          "output_type": "stream",
          "name": "stdout",
          "text": [
            "/kaggle/input/titanic-extended/train.csv\n",
            "/kaggle/input/titanic-extended/full.csv\n",
            "/kaggle/input/titanic-extended/test.csv\n"
          ]
        }
      ]
    },
    {
      "cell_type": "code",
      "source": [
        "# Import required libraries\n",
        "import numpy as np\n",
        "import pandas as pd\n",
        "import matplotlib.pyplot as plt\n",
        "from sklearn.model_selection import train_test_split\n",
        "from sklearn.preprocessing import StandardScaler, LabelEncoder\n",
        "from sklearn.metrics import accuracy_score\n"
      ],
      "metadata": {
        "id": "TN6UirA5KZGq"
      },
      "execution_count": null,
      "outputs": []
    },
    {
      "cell_type": "code",
      "source": [
        "base_path=\"/kaggle/input/titanic-extended/\"\n",
        "# Load the Titanic dataset (assuming it's downloaded from Kaggle and in the working directory)\n",
        "titanic_data = pd.read_csv(base_path+\"train.csv\")\n",
        "\n",
        "# Display the first few rows of the dataset\n",
        "print(titanic_data.head())\n",
        "\n",
        "# Drop irrelevant columns that are not useful for modeling\n",
        "# We drop columns that are unlikely to influence survival or have many missing values\n",
        "columns_to_drop = [\n",
        "    'PassengerId', 'Name', 'Ticket', 'Cabin', 'WikiId', 'Name_wiki',\n",
        "    'Age_wiki', 'Hometown', 'Boarded', 'Destination', 'Lifeboat', 'Body', 'Class'\n",
        "]\n",
        "titanic_data = titanic_data.drop(columns=columns_to_drop, axis=1)\n",
        "\n",
        "# Fill missing values in 'Age' with the median\n",
        "titanic_data['Age'].fillna(titanic_data['Age'].median(), inplace=True)\n",
        "\n",
        "# Fill missing values in 'Fare' with the median\n",
        "titanic_data['Fare'].fillna(titanic_data['Fare'].median(), inplace=True)\n",
        "\n",
        "# Fill missing values in 'Embarked' with the mode\n",
        "titanic_data['Embarked'].fillna(titanic_data['Embarked'].mode()[0], inplace=True)\n",
        "\n",
        "# Encode 'Sex' column as binary: male = 1, female = 0\n",
        "titanic_data['Sex'] = titanic_data['Sex'].map({'male': 1, 'female': 0})\n",
        "\n",
        "# Encode 'Embarked' column using Label Encoding\n",
        "label_encoder = LabelEncoder()\n",
        "titanic_data['Embarked'] = label_encoder.fit_transform(titanic_data['Embarked'])\n",
        "\n",
        "# Display the data types and missing values to confirm preprocessing\n",
        "print(titanic_data.info())\n",
        "\n",
        "# Split dataset into features and target variable\n",
        "X = titanic_data.drop('Survived', axis=1)\n",
        "y = titanic_data['Survived']\n",
        "\n",
        "# Split into training and testing datasets\n",
        "X_train, X_test, y_train, y_test = train_test_split(X, y, test_size=0.2, random_state=42)\n",
        "\n",
        "# Standardize features to improve the performance of the model\n",
        "scaler = StandardScaler()\n",
        "X_train = scaler.fit_transform(X_train)\n",
        "X_test = scaler.transform(X_test)\n"
      ],
      "metadata": {
        "colab": {
          "base_uri": "https://localhost:8080/"
        },
        "id": "rQiDVzPLLzc_",
        "outputId": "42173586-e2ac-452e-d566-e73094207a0a"
      },
      "execution_count": null,
      "outputs": [
        {
          "output_type": "stream",
          "name": "stdout",
          "text": [
            "   PassengerId  Survived  Pclass  \\\n",
            "0            1       0.0       3   \n",
            "1            2       1.0       1   \n",
            "2            3       1.0       3   \n",
            "3            4       1.0       1   \n",
            "4            5       0.0       3   \n",
            "\n",
            "                                                Name     Sex   Age  SibSp  \\\n",
            "0                            Braund, Mr. Owen Harris    male  22.0      1   \n",
            "1  Cumings, Mrs. John Bradley (Florence Briggs Th...  female  38.0      1   \n",
            "2                             Heikkinen, Miss. Laina  female  26.0      0   \n",
            "3       Futrelle, Mrs. Jacques Heath (Lily May Peel)  female  35.0      1   \n",
            "4                           Allen, Mr. William Henry    male  35.0      0   \n",
            "\n",
            "   Parch            Ticket     Fare  ... Embarked WikiId  \\\n",
            "0      0         A/5 21171   7.2500  ...        S  691.0   \n",
            "1      0          PC 17599  71.2833  ...        C   90.0   \n",
            "2      0  STON/O2. 3101282   7.9250  ...        S  865.0   \n",
            "3      0            113803  53.1000  ...        S  127.0   \n",
            "4      0            373450   8.0500  ...        S  627.0   \n",
            "\n",
            "                                    Name_wiki Age_wiki  \\\n",
            "0                     Braund, Mr. Owen Harris     22.0   \n",
            "1  Cumings, Mrs. Florence Briggs (née Thayer)     35.0   \n",
            "2                       Heikkinen, Miss Laina     26.0   \n",
            "3          Futrelle, Mrs. Lily May (née Peel)     35.0   \n",
            "4                    Allen, Mr. William Henry     35.0   \n",
            "\n",
            "                             Hometown      Boarded  \\\n",
            "0          Bridgerule, Devon, England  Southampton   \n",
            "1              New York, New York, US    Cherbourg   \n",
            "2                  Jyväskylä, Finland  Southampton   \n",
            "3         Scituate, Massachusetts, US  Southampton   \n",
            "4  Birmingham, West Midlands, England  Southampton   \n",
            "\n",
            "                               Destination Lifeboat Body Class  \n",
            "0  Qu'Appelle Valley, Saskatchewan, Canada      NaN  NaN   3.0  \n",
            "1                   New York, New York, US        4  NaN   1.0  \n",
            "2                            New York City      14?  NaN   3.0  \n",
            "3              Scituate, Massachusetts, US        D  NaN   1.0  \n",
            "4                            New York City      NaN  NaN   3.0  \n",
            "\n",
            "[5 rows x 21 columns]\n",
            "<class 'pandas.core.frame.DataFrame'>\n",
            "RangeIndex: 891 entries, 0 to 890\n",
            "Data columns (total 8 columns):\n",
            " #   Column    Non-Null Count  Dtype  \n",
            "---  ------    --------------  -----  \n",
            " 0   Survived  891 non-null    float64\n",
            " 1   Pclass    891 non-null    int64  \n",
            " 2   Sex       891 non-null    int64  \n",
            " 3   Age       891 non-null    float64\n",
            " 4   SibSp     891 non-null    int64  \n",
            " 5   Parch     891 non-null    int64  \n",
            " 6   Fare      891 non-null    float64\n",
            " 7   Embarked  891 non-null    int64  \n",
            "dtypes: float64(3), int64(5)\n",
            "memory usage: 55.8 KB\n",
            "None\n"
          ]
        }
      ]
    },
    {
      "cell_type": "code",
      "source": [
        "class LMSClassifier:\n",
        "    def __init__(self, learning_rate=0.01, n_iters=1000, clip_value=1.0):\n",
        "        self.learning_rate = learning_rate\n",
        "        self.n_iters = n_iters\n",
        "        self.weights = None\n",
        "        self.bias = None\n",
        "        self.convergence_history = []\n",
        "        self.clip_value = clip_value  # Added clip value for gradient clipping\n",
        "\n",
        "    def fit(self, X, y):\n",
        "        n_samples, n_features = X.shape\n",
        "        self.weights = np.zeros(n_features)\n",
        "        self.bias = 0\n",
        "\n",
        "        # Training loop\n",
        "        for _ in range(self.n_iters):\n",
        "            y_pred = self._predict(X)\n",
        "            errors = y - y_pred\n",
        "\n",
        "            # Compute gradients\n",
        "            grad_weights = np.dot(X.T, errors)\n",
        "            grad_bias = np.sum(errors)\n",
        "\n",
        "            # Apply gradient clipping to avoid overflow\n",
        "            grad_weights = np.clip(grad_weights, -self.clip_value, self.clip_value)\n",
        "            grad_bias = np.clip(grad_bias, -self.clip_value, self.clip_value)\n",
        "\n",
        "            # Update weights and bias\n",
        "            self.weights += self.learning_rate * grad_weights\n",
        "            self.bias += self.learning_rate * grad_bias\n",
        "\n",
        "            # Record the mean squared error for convergence analysis\n",
        "            loss = np.mean(errors ** 2)\n",
        "            self.convergence_history.append(loss)\n",
        "\n",
        "            # Check if the loss is NaN or inf to stop training early\n",
        "            if np.isnan(loss) or np.isinf(loss):\n",
        "                print(\"Training stopped due to divergence.\")\n",
        "                break\n",
        "\n",
        "    def _predict(self, X):\n",
        "        return np.dot(X, self.weights) + self.bias\n",
        "\n",
        "    def predict(self, X):\n",
        "        linear_output = self._predict(X)\n",
        "        return np.where(linear_output >= 0.5, 1, 0)  # Convert to binary classification\n"
      ],
      "metadata": {
        "id": "MqA-s9hTMcg-"
      },
      "execution_count": null,
      "outputs": []
    },
    {
      "cell_type": "code",
      "source": [
        "# Define learning rates to test\n",
        "learning_rates = [0.001, 0.005, 0.01,0.1,0.5]  # Adjusted learning rates\n",
        "\n",
        "# Track results for each learning rate\n",
        "results = {}\n",
        "\n",
        "# Train and evaluate the model for each learning rate\n",
        "for lr in learning_rates:\n",
        "    model = LMSClassifier(learning_rate=lr, n_iters=1000, clip_value=0.1)  # Set clip_value to 0.1 for stability\n",
        "    model.fit(X_train, y_train)\n",
        "    y_pred = model.predict(X_test)\n",
        "    accuracy = accuracy_score(y_test, y_pred)\n",
        "    results[lr] = accuracy\n",
        "    print(f\"Learning Rate: {lr}, Accuracy: {accuracy:.4f}\")\n",
        "\n",
        "    # Plot convergence history\n",
        "    plt.plot(model.convergence_history, label=f'LR={lr}')\n",
        "\n",
        "plt.title('Convergence of LMS Algorithm with Different Learning Rates')\n",
        "plt.xlabel('Iterations')\n",
        "plt.ylabel('Mean Squared Error')\n",
        "plt.legend()\n",
        "plt.show()\n"
      ],
      "metadata": {
        "colab": {
          "base_uri": "https://localhost:8080/",
          "height": 559
        },
        "id": "71NyWHsOMej4",
        "outputId": "4ce2288f-61aa-4661-87b9-b18cbdc6d6e4"
      },
      "execution_count": null,
      "outputs": [
        {
          "output_type": "stream",
          "name": "stdout",
          "text": [
            "Learning Rate: 0.001, Accuracy: 0.6592\n",
            "Learning Rate: 0.005, Accuracy: 0.7933\n",
            "Learning Rate: 0.01, Accuracy: 0.7933\n",
            "Learning Rate: 0.1, Accuracy: 0.7877\n",
            "Learning Rate: 0.5, Accuracy: 0.8045\n"
          ]
        },
        {
          "output_type": "display_data",
          "data": {
            "text/plain": [
              "<Figure size 640x480 with 1 Axes>"
            ],
            "image/png": "[encoded data removed]"
          },
          "metadata": {}
        }
      ]
    }
  ],
  "metadata": {
    "kernelspec": {
      "language": "python",
      "display_name": "Python 3",
      "name": "python3"
    },
    "language_info": {
      "pygments_lexer": "ipython3",
      "nbconvert_exporter": "python",
      "version": "3.6.4",
      "file_extension": ".py",
      "codemirror_mode": {
        "name": "ipython",
        "version": 3
      },
      "name": "python",
      "mimetype": "text/x-python"
    },
    "colab": {
      "provenance": []
    }
  },
  "nbformat": 4,
  "nbformat_minor": 0
}